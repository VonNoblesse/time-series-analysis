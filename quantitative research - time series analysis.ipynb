{
 "cells": [
  {
   "cell_type": "code",
   "execution_count": 1,
   "id": "3547a007",
   "metadata": {},
   "outputs": [
    {
     "name": "stderr",
     "output_type": "stream",
     "text": [
      "<ipython-input-1-074fbbe74481>:8: TqdmExperimentalWarning: Using `tqdm.autonotebook.tqdm` in notebook mode. Use `tqdm.tqdm` instead to force console mode (e.g. in jupyter console)\n",
      "  from tqdm.autonotebook import tqdm\n"
     ]
    }
   ],
   "source": [
    "import yfinance as yf\n",
    "import pandas as pd\n",
    "import numpy as np\n",
    "import seaborn as sns\n",
    "import matplotlib.pyplot as plt\n",
    "import sys, os\n",
    "import time\n",
    "from tqdm.autonotebook import tqdm\n",
    "import seaborn as sns\n",
    "import matplotlib.pyplot as plt\n",
    "from tslearn.clustering import TimeSeriesKMeans\n",
    "from sklearn.metrics import silhouette_score\n",
    "from sklearn.cluster import KMeans\n",
    "from sklearn.preprocessing import StandardScaler, MinMaxScaler\n",
    "from sklearn.linear_model import LinearRegression, Ridge, Lasso, ElasticNet"
   ]
  },
  {
   "cell_type": "code",
   "execution_count": 2,
   "id": "49651352",
   "metadata": {},
   "outputs": [],
   "source": [
    "computed = True # изменение на False изменит портфель акций на актуальный\n",
    "\n",
    "if computed == False: #получаем список актуальных кампаний\n",
    "    trending = pd.read_html(\"https://finance.yahoo.com/markets/stocks/trending/\")[0]\n",
    "    most_active = pd.read_html(\"https://finance.yahoo.com/markets/stocks/most-active/\")[0]\n",
    "    gainers = pd.read_html(\"https://finance.yahoo.com/markets/stocks/gainers/\")[0]\n",
    "    losers = pd.read_html(\"https://finance.yahoo.com/markets/stocks/losers/\")[0]\n",
    "    interesting_tickers = set()\n",
    "        \n",
    "\n",
    "    for df in [trending, most_active, gainers, losers]:\n",
    "        interesting_tickers = interesting_tickers.union(set(df['Symbol'][:10]))\n",
    "    interesting_tickers = list(interesting_tickers)\n",
    "    \n",
    "    for i in range(len(interesting_tickers)):\n",
    "        if ' ' in interesting_tickers[i]:\n",
    "            tmp = ''\n",
    "            j = 0\n",
    "            while interesting_tickers[i][j] != ' ':\n",
    "                tmp += interesting_tickers[i][j]\n",
    "                j += 1\n",
    "            interesting_tickers[i] = tmp\n",
    "    \n",
    "    interesting_tickers.remove('MUSA')\n",
    "    interesting_tickers.remove('META')\n",
    "    print(interesting_tickers)\n",
    "    "
   ]
  },
  {
   "cell_type": "code",
   "execution_count": 3,
   "id": "88716b4d",
   "metadata": {},
   "outputs": [
    {
     "ename": "NameError",
     "evalue": "name 'interesting_tickers' is not defined",
     "output_type": "error",
     "traceback": [
      "\u001b[1;31m---------------------------------------------------------------------------\u001b[0m",
      "\u001b[1;31mNameError\u001b[0m                                 Traceback (most recent call last)",
      "\u001b[1;32m<ipython-input-3-e681ce19edce>\u001b[0m in \u001b[0;36m<module>\u001b[1;34m\u001b[0m\n\u001b[0;32m      2\u001b[0m \u001b[0mframes\u001b[0m \u001b[1;33m=\u001b[0m \u001b[1;33m[\u001b[0m\u001b[1;33m]\u001b[0m\u001b[1;33m\u001b[0m\u001b[1;33m\u001b[0m\u001b[0m\n\u001b[0;32m      3\u001b[0m \u001b[1;33m\u001b[0m\u001b[0m\n\u001b[1;32m----> 4\u001b[1;33m \u001b[0mdata\u001b[0m \u001b[1;33m=\u001b[0m \u001b[0myf\u001b[0m\u001b[1;33m.\u001b[0m\u001b[0mdownload\u001b[0m\u001b[1;33m(\u001b[0m\u001b[0minteresting_tickers\u001b[0m\u001b[1;33m[\u001b[0m\u001b[1;36m0\u001b[0m\u001b[1;33m]\u001b[0m\u001b[1;33m,\u001b[0m \u001b[0mperiod\u001b[0m\u001b[1;33m=\u001b[0m\u001b[1;34m'6mo'\u001b[0m\u001b[1;33m,\u001b[0m \u001b[0minterval\u001b[0m\u001b[1;33m=\u001b[0m\u001b[1;34m'1h'\u001b[0m\u001b[1;33m)\u001b[0m\u001b[1;33m\u001b[0m\u001b[1;33m\u001b[0m\u001b[0m\n\u001b[0m\u001b[0;32m      5\u001b[0m \u001b[0mdates\u001b[0m \u001b[1;33m=\u001b[0m \u001b[0mdata\u001b[0m\u001b[1;33m.\u001b[0m\u001b[0mindex\u001b[0m\u001b[1;33m.\u001b[0m\u001b[0mtolist\u001b[0m\u001b[1;33m(\u001b[0m\u001b[1;33m)\u001b[0m\u001b[1;33m\u001b[0m\u001b[1;33m\u001b[0m\u001b[0m\n\u001b[0;32m      6\u001b[0m \u001b[0mdates\u001b[0m \u001b[1;33m=\u001b[0m \u001b[1;33m[\u001b[0m\u001b[0mdate\u001b[0m\u001b[1;33m.\u001b[0m\u001b[0mstrftime\u001b[0m\u001b[1;33m(\u001b[0m\u001b[1;34m'%Y-%m-%d %X'\u001b[0m\u001b[1;33m)\u001b[0m \u001b[1;32mfor\u001b[0m \u001b[0mdate\u001b[0m \u001b[1;32min\u001b[0m \u001b[0mdates\u001b[0m\u001b[1;33m]\u001b[0m\u001b[1;33m\u001b[0m\u001b[1;33m\u001b[0m\u001b[0m\n",
      "\u001b[1;31mNameError\u001b[0m: name 'interesting_tickers' is not defined"
     ]
    }
   ],
   "source": [
    "# качаем данные найденных кампаний\n",
    "frames = [] \n",
    "\n",
    "data = yf.download(interesting_tickers[0], period='6mo', interval='1h')\n",
    "dates = data.index.tolist()\n",
    "dates = [date.strftime('%Y-%m-%d %X') for date in dates]\n",
    "\n",
    "for ticker in interesting_tickers:\n",
    "    data = yf.download(ticker, period='6mo', interval='1h')\n",
    "    data = data.drop(columns=['Open', 'High', 'Low', 'Adj Close', 'Volume'],axis=1)\n",
    "    data = data.rename(columns={'Close':ticker})\n",
    "    frames.append(data.transpose())"
   ]
  },
  {
   "cell_type": "code",
   "execution_count": 121,
   "id": "da51676b",
   "metadata": {},
   "outputs": [],
   "source": [
    "#в данных на одни сутки приходится по 7 цен с 9:30 до 15:30, а значит 30 дней это 210 точек\n",
    "day_interval = 7\n",
    "month_interval = 210\n",
    "\n",
    "def window(data, begin): # выделяет окно в 30 дней начиная с дня begin\n",
    "    new_data = data.iloc[:, begin:begin+month_interval].copy()\n",
    "    return new_data\n",
    "\n",
    "def date_to_int(dates, day): # преобразует день, заданный в виде строки, в число -- порядковый номер этого дня\n",
    "    for j in range(len(dates)):\n",
    "        tmp = ''\n",
    "        for i in range(10):\n",
    "            tmp += dates[j][i]\n",
    "        if tmp == day:\n",
    "            return j\n",
    "    return -1 #в случае если в этот день торгов не было"
   ]
  },
  {
   "cell_type": "code",
   "execution_count": 122,
   "id": "8372ae77",
   "metadata": {},
   "outputs": [],
   "source": [
    "# собираем данные в один фрейм\n",
    "full_data = pd.concat(frames)\n",
    "full_data = full_data.ffill(axis=1)\n",
    "full_data = full_data.bfill(axis=1)"
   ]
  },
  {
   "cell_type": "code",
   "execution_count": 123,
   "id": "12dde273",
   "metadata": {},
   "outputs": [],
   "source": [
    "def scale(full_data_30): # функция для нормирования всех временных рядов\n",
    "    scaler = StandardScaler()\n",
    "    scaled_data = scaler.fit_transform(full_data_30.T).T\n",
    "    return scaled_data"
   ]
  },
  {
   "cell_type": "code",
   "execution_count": 124,
   "id": "210d6718",
   "metadata": {},
   "outputs": [],
   "source": [
    "# подбор нужного числа кластеров. Я выбрал 4\n",
    "\n",
    "\n",
    "# distortions = []\n",
    "# silhouette = []\n",
    "# K = range(1, 10)\n",
    "# for k in tqdm(K):\n",
    "#     kmeanModel = TimeSeriesKMeans(n_clusters=k, metric=\"dtw\", n_jobs=6, max_iter=10)\n",
    "#     kmeanModel.fit(scaled_data)\n",
    "#     distortions.append(kmeanModel.inertia_)\n",
    "#     if k > 1:\n",
    "#         silhouette.append(silhouette_score(scaled_data, kmeanModel.labels_))\n",
    "\n",
    "# plt.figure(figsize=(10,4))\n",
    "# plt.plot(K, distortions, 'bx-')\n",
    "# plt.xlabel('k')\n",
    "# plt.ylabel('Distortion')\n",
    "# plt.title('Elbow Method')\n",
    "# plt.show()\n",
    "\n",
    "# plt.figure(figsize=(10,4))\n",
    "# plt.plot(K[1:], silhouette, 'bx-')\n",
    "# plt.xlabel('k')\n",
    "# plt.ylabel('Silhouette score')\n",
    "# plt.title('Silhouette')\n",
    "# plt.show()"
   ]
  },
  {
   "cell_type": "code",
   "execution_count": 125,
   "id": "2de29257",
   "metadata": {},
   "outputs": [],
   "source": [
    "n_clusters = 4\n",
    "def clusterization(full_data_30): # кластеризует временные ряды\n",
    "    scaled_data = scale(full_data_30)\n",
    "    ts_kmeans_dtw = TimeSeriesKMeans(n_clusters=n_clusters, metric=\"dtw\", n_jobs=6, max_iter=10)\n",
    "    ts_kmeans_dtw.fit(scaled_data)\n",
    "    return ts_kmeans_dtw"
   ]
  },
  {
   "cell_type": "code",
   "execution_count": 126,
   "id": "2943d73a",
   "metadata": {},
   "outputs": [],
   "source": [
    "def plot_centroids(ts_kmeans_dtw): # вывести центроиды кластеров \n",
    "    for cluster_number in range(n_clusters):\n",
    "        plt.plot(ts_kmeans_dtw.cluster_centers_[cluster_number, :, 0].T, label=cluster_number)\n",
    "    plt.title(\"Cluster centroids\")\n",
    "    plt.legend()\n",
    "    plt.show()"
   ]
  },
  {
   "cell_type": "code",
   "execution_count": 127,
   "id": "cf96444b",
   "metadata": {},
   "outputs": [],
   "source": [
    "def plot_cluster_tickers(full_data_30): # вывести представителя кластера\n",
    "    for cluster in range(n_clusters):\n",
    "        print(\"=================================================================================\")\n",
    "        print(f\"                          Cluster number: {cluster}\")\n",
    "        print(\"=================================================================================\")\n",
    "        current_cluster = full_data_30[full_data_30.cluster==cluster]\n",
    "        fig, ax = plt.subplots(\n",
    "            int(np.ceil(current_cluster.shape[0]/4)),\n",
    "            4,\n",
    "            figsize=(15, 3*int(np.ceil(current_cluster.shape[0]/4)))\n",
    "        )\n",
    "        fig.autofmt_xdate(rotation=45)\n",
    "        ax = ax.reshape(-1)\n",
    "\n",
    "        for index, (_, row) in enumerate(current_cluster.iterrows()):\n",
    "            ax[index].plot(row.iloc[5:-1])\n",
    "            plt.xticks(rotation=45)\n",
    "\n",
    "        plt.tight_layout()\n",
    "        plt.show()"
   ]
  },
  {
   "cell_type": "code",
   "execution_count": 197,
   "id": "3e153088",
   "metadata": {},
   "outputs": [],
   "source": [
    "def make_features(full_data_30): # создает матрицу признаков\n",
    "    index = full_data_30.index\n",
    "    features = pd.DataFrame()\n",
    "    features.index = index\n",
    "    scaled_data = scale(full_data_30)\n",
    "    ts_kmeans_dtw = clusterization(scaled_data)\n",
    "    features['min'] = full_data_30.min(axis=1)\n",
    "    features['max'] = full_data_30.max(axis=1)\n",
    "    features['mean'] = full_data_30.mean(axis=1)\n",
    "    features['std'] = full_data_30.std(axis=1)\n",
    "    features['lag1'] = full_data_30.iloc[:,-1]\n",
    "    features['lag2'] = full_data_30.iloc[:,-2]\n",
    "    features['lag3'] = full_data_30.iloc[:,-3]\n",
    "    features['lag4'] = full_data_30.iloc[:,-4]\n",
    "    features['lag5'] = full_data_30.iloc[:,-5]\n",
    "    features['movingavg5'] = full_data_30.iloc[:,175:-1].mean(axis=1)\n",
    "    features['movingavg20'] = full_data_30.iloc[:,70:-1].mean(axis=1)\n",
    "    features['median'] = full_data_30.median(axis=1)\n",
    "    ts_kmeans_dtw = clusterization(full_data_30)\n",
    "    features['cluster'] = ts_kmeans_dtw.predict(scaled_data)\n",
    "    return features\n",
    "    \n",
    "def make_target(data, begin):\n",
    "    new_data = data.iloc[:, begin+month_interval+1].copy()\n",
    "    return new_data"
   ]
  },
  {
   "cell_type": "code",
   "execution_count": 205,
   "id": "8a87d2c0",
   "metadata": {},
   "outputs": [
    {
     "name": "stdout",
     "output_type": "stream",
     "text": [
      "6\n"
     ]
    },
    {
     "name": "stderr",
     "output_type": "stream",
     "text": [
      "C:\\Users\\User\\anaconda3\\lib\\site-packages\\tslearn\\utils\\utils.py:90: UserWarning: 2-Dimensional data passed. Assuming these are 33 1-dimensional timeseries\n",
      "  warnings.warn(\n"
     ]
    },
    {
     "name": "stdout",
     "output_type": "stream",
     "text": [
      "153\n"
     ]
    },
    {
     "name": "stderr",
     "output_type": "stream",
     "text": [
      "C:\\Users\\User\\anaconda3\\lib\\site-packages\\tslearn\\utils\\utils.py:90: UserWarning: 2-Dimensional data passed. Assuming these are 33 1-dimensional timeseries\n",
      "  warnings.warn(\n"
     ]
    },
    {
     "name": "stdout",
     "output_type": "stream",
     "text": [
      "300\n"
     ]
    },
    {
     "name": "stderr",
     "output_type": "stream",
     "text": [
      "C:\\Users\\User\\anaconda3\\lib\\site-packages\\tslearn\\utils\\utils.py:90: UserWarning: 2-Dimensional data passed. Assuming these are 33 1-dimensional timeseries\n",
      "  warnings.warn(\n"
     ]
    },
    {
     "name": "stdout",
     "output_type": "stream",
     "text": [
      "447\n"
     ]
    },
    {
     "name": "stderr",
     "output_type": "stream",
     "text": [
      "C:\\Users\\User\\anaconda3\\lib\\site-packages\\tslearn\\utils\\utils.py:90: UserWarning: 2-Dimensional data passed. Assuming these are 33 1-dimensional timeseries\n",
      "  warnings.warn(\n"
     ]
    }
   ],
   "source": [
    "day = '2024-03-20'\n",
    "index = date_to_int(dates,day)\n",
    "print(index)\n",
    "full_data_30 = window(full_data,index)\n",
    "x_train1 = make_features(full_data_30)\n",
    "y_train1 = make_target(full_data,index)\n",
    "\n",
    "day = '2024-04-19'\n",
    "index = date_to_int(dates,day)\n",
    "print(index)\n",
    "full_data_30 = window(full_data,index)\n",
    "x_train2 = make_features(full_data_30)\n",
    "y_train2 = make_target(full_data,index)\n",
    "\n",
    "day = '2024-05-20'\n",
    "index = date_to_int(dates,day)\n",
    "print(index)\n",
    "full_data_30 = window(full_data,index)\n",
    "x_train3 = make_features(full_data_30)\n",
    "y_train3 = make_target(full_data,index)\n",
    "\n",
    "day = '2024-06-20'\n",
    "index = date_to_int(dates,day)\n",
    "print(index)\n",
    "full_data_30 = window(full_data,index)\n",
    "x_train4 = make_features(full_data_30)\n",
    "y_train4 = make_target(full_data,index)\n",
    "\n",
    "\n",
    "x_train = pd.concat([x_train1,x_train2,x_train3,x_train4])\n",
    "y_train = pd.concat([y_train1,y_train2,y_train3,y_train4])"
   ]
  },
  {
   "cell_type": "code",
   "execution_count": 199,
   "id": "e1c90e5d",
   "metadata": {},
   "outputs": [
    {
     "data": {
      "text/html": [
       "<style>#sk-container-id-10 {color: black;}#sk-container-id-10 pre{padding: 0;}#sk-container-id-10 div.sk-toggleable {background-color: white;}#sk-container-id-10 label.sk-toggleable__label {cursor: pointer;display: block;width: 100%;margin-bottom: 0;padding: 0.3em;box-sizing: border-box;text-align: center;}#sk-container-id-10 label.sk-toggleable__label-arrow:before {content: \"▸\";float: left;margin-right: 0.25em;color: #696969;}#sk-container-id-10 label.sk-toggleable__label-arrow:hover:before {color: black;}#sk-container-id-10 div.sk-estimator:hover label.sk-toggleable__label-arrow:before {color: black;}#sk-container-id-10 div.sk-toggleable__content {max-height: 0;max-width: 0;overflow: hidden;text-align: left;background-color: #f0f8ff;}#sk-container-id-10 div.sk-toggleable__content pre {margin: 0.2em;color: black;border-radius: 0.25em;background-color: #f0f8ff;}#sk-container-id-10 input.sk-toggleable__control:checked~div.sk-toggleable__content {max-height: 200px;max-width: 100%;overflow: auto;}#sk-container-id-10 input.sk-toggleable__control:checked~label.sk-toggleable__label-arrow:before {content: \"▾\";}#sk-container-id-10 div.sk-estimator input.sk-toggleable__control:checked~label.sk-toggleable__label {background-color: #d4ebff;}#sk-container-id-10 div.sk-label input.sk-toggleable__control:checked~label.sk-toggleable__label {background-color: #d4ebff;}#sk-container-id-10 input.sk-hidden--visually {border: 0;clip: rect(1px 1px 1px 1px);clip: rect(1px, 1px, 1px, 1px);height: 1px;margin: -1px;overflow: hidden;padding: 0;position: absolute;width: 1px;}#sk-container-id-10 div.sk-estimator {font-family: monospace;background-color: #f0f8ff;border: 1px dotted black;border-radius: 0.25em;box-sizing: border-box;margin-bottom: 0.5em;}#sk-container-id-10 div.sk-estimator:hover {background-color: #d4ebff;}#sk-container-id-10 div.sk-parallel-item::after {content: \"\";width: 100%;border-bottom: 1px solid gray;flex-grow: 1;}#sk-container-id-10 div.sk-label:hover label.sk-toggleable__label {background-color: #d4ebff;}#sk-container-id-10 div.sk-serial::before {content: \"\";position: absolute;border-left: 1px solid gray;box-sizing: border-box;top: 0;bottom: 0;left: 50%;z-index: 0;}#sk-container-id-10 div.sk-serial {display: flex;flex-direction: column;align-items: center;background-color: white;padding-right: 0.2em;padding-left: 0.2em;position: relative;}#sk-container-id-10 div.sk-item {position: relative;z-index: 1;}#sk-container-id-10 div.sk-parallel {display: flex;align-items: stretch;justify-content: center;background-color: white;position: relative;}#sk-container-id-10 div.sk-item::before, #sk-container-id-10 div.sk-parallel-item::before {content: \"\";position: absolute;border-left: 1px solid gray;box-sizing: border-box;top: 0;bottom: 0;left: 50%;z-index: -1;}#sk-container-id-10 div.sk-parallel-item {display: flex;flex-direction: column;z-index: 1;position: relative;background-color: white;}#sk-container-id-10 div.sk-parallel-item:first-child::after {align-self: flex-end;width: 50%;}#sk-container-id-10 div.sk-parallel-item:last-child::after {align-self: flex-start;width: 50%;}#sk-container-id-10 div.sk-parallel-item:only-child::after {width: 0;}#sk-container-id-10 div.sk-dashed-wrapped {border: 1px dashed gray;margin: 0 0.4em 0.5em 0.4em;box-sizing: border-box;padding-bottom: 0.4em;background-color: white;}#sk-container-id-10 div.sk-label label {font-family: monospace;font-weight: bold;display: inline-block;line-height: 1.2em;}#sk-container-id-10 div.sk-label-container {text-align: center;}#sk-container-id-10 div.sk-container {/* jupyter's `normalize.less` sets `[hidden] { display: none; }` but bootstrap.min.css set `[hidden] { display: none !important; }` so we also need the `!important` here to be able to override the default hidden behavior on the sphinx rendered scikit-learn.org. See: https://github.com/scikit-learn/scikit-learn/issues/21755 */display: inline-block !important;position: relative;}#sk-container-id-10 div.sk-text-repr-fallback {display: none;}</style><div id=\"sk-container-id-10\" class=\"sk-top-container\"><div class=\"sk-text-repr-fallback\"><pre>LinearRegression()</pre><b>In a Jupyter environment, please rerun this cell to show the HTML representation or trust the notebook. <br />On GitHub, the HTML representation is unable to render, please try loading this page with nbviewer.org.</b></div><div class=\"sk-container\" hidden><div class=\"sk-item\"><div class=\"sk-estimator sk-toggleable\"><input class=\"sk-toggleable__control sk-hidden--visually\" id=\"sk-estimator-id-10\" type=\"checkbox\" checked><label for=\"sk-estimator-id-10\" class=\"sk-toggleable__label sk-toggleable__label-arrow\">LinearRegression</label><div class=\"sk-toggleable__content\"><pre>LinearRegression()</pre></div></div></div></div></div>"
      ],
      "text/plain": [
       "LinearRegression()"
      ]
     },
     "execution_count": 199,
     "metadata": {},
     "output_type": "execute_result"
    }
   ],
   "source": [
    "model = LinearRegression()\n",
    "model.fit(x_train, y_train)"
   ]
  },
  {
   "cell_type": "code",
   "execution_count": 215,
   "id": "5de6d4f8",
   "metadata": {},
   "outputs": [
    {
     "name": "stdout",
     "output_type": "stream",
     "text": [
      "583\n"
     ]
    },
    {
     "name": "stderr",
     "output_type": "stream",
     "text": [
      "C:\\Users\\User\\anaconda3\\lib\\site-packages\\tslearn\\utils\\utils.py:90: UserWarning: 2-Dimensional data passed. Assuming these are 33 1-dimensional timeseries\n",
      "  warnings.warn(\n"
     ]
    },
    {
     "name": "stdout",
     "output_type": "stream",
     "text": [
      "632\n"
     ]
    },
    {
     "name": "stderr",
     "output_type": "stream",
     "text": [
      "C:\\Users\\User\\anaconda3\\lib\\site-packages\\tslearn\\utils\\utils.py:90: UserWarning: 2-Dimensional data passed. Assuming these are 33 1-dimensional timeseries\n",
      "  warnings.warn(\n"
     ]
    },
    {
     "name": "stdout",
     "output_type": "stream",
     "text": [
      "660\n"
     ]
    },
    {
     "name": "stderr",
     "output_type": "stream",
     "text": [
      "C:\\Users\\User\\anaconda3\\lib\\site-packages\\tslearn\\utils\\utils.py:90: UserWarning: 2-Dimensional data passed. Assuming these are 33 1-dimensional timeseries\n",
      "  warnings.warn(\n"
     ]
    }
   ],
   "source": [
    "day = '2024-07-19'\n",
    "index = date_to_int(dates,day)\n",
    "print(index)\n",
    "full_data_30 = window(full_data,index)\n",
    "x_test1 = make_features(full_data_30)\n",
    "y_test1 = make_target(full_data,index)\n",
    "y_prev1 = make_target(full_data,index-1)\n",
    "\n",
    "day = '2024-07-30'\n",
    "index = date_to_int(dates,day)\n",
    "print(index)\n",
    "full_data_30 = window(full_data,index)\n",
    "x_test2 = make_features(full_data_30)\n",
    "y_test2 = make_target(full_data,index)\n",
    "y_prev2 = make_target(full_data,index-1)\n",
    "\n",
    "day = '2024-08-05'\n",
    "index = date_to_int(dates,day)\n",
    "print(index)\n",
    "full_data_30 = window(full_data,index)\n",
    "x_test3 = make_features(full_data_30)\n",
    "y_test3 = make_target(full_data,index)\n",
    "y_prev3 = make_target(full_data,index-1)\n",
    "\n",
    "x_test = pd.concat([x_test1,x_test2,x_test3])\n",
    "y_test = pd.concat([y_test1,y_test2,y_test3])\n",
    "y_prev = pd.concat([y_prev1,y_prev2,y_prev3])"
   ]
  },
  {
   "cell_type": "code",
   "execution_count": 212,
   "id": "688e8daa",
   "metadata": {},
   "outputs": [],
   "source": [
    "predict_t = model.predict(x_test)\n",
    "predict_t = [float(predict) for predict in predict_t]"
   ]
  },
  {
   "cell_type": "code",
   "execution_count": 213,
   "id": "7faa6905",
   "metadata": {},
   "outputs": [
    {
     "data": {
      "image/png": "[encoded data removed]",
      "text/plain": [
       "<Figure size 504x504 with 1 Axes>"
      ]
     },
     "metadata": {
      "needs_background": "light"
     },
     "output_type": "display_data"
    }
   ],
   "source": [
    "fig, ax = plt.subplots(figsize=(7,7))\n",
    "plt.scatter(y_test, predict_t)\n",
    "plt.xlabel(\"Реальные значения\")\n",
    "plt.ylabel(\"Предсказанные значения\")\n",
    "plt.title(\"Реальные vs Предсказанные значения\")\n",
    "A = [i for i in range(round(max(predict_t)))]\n",
    "plt.plot(A,color='red')\n",
    "plt.show()"
   ]
  },
  {
   "cell_type": "code",
   "execution_count": 217,
   "id": "4e2155a5",
   "metadata": {},
   "outputs": [
    {
     "name": "stdout",
     "output_type": "stream",
     "text": [
      "accuracy    0.8686868686868687\n"
     ]
    }
   ],
   "source": [
    "correct_predictions = []\n",
    "for i in range(len(y_test)):\n",
    "    if 0.95 * y_prev[i] <= y_test[i] and y_test[i] <= y_prev[i] * 1.05: # цена стабильна\n",
    "        # предсказание тоже говорит о том что цена стабильна\n",
    "        if 0.95 * y_prev[i] <= predict_t[i] and predict_t[i] <= y_prev[i] * 1.05:\n",
    "            correct_predictions.append(1)\n",
    "        else:\n",
    "            correct_predictions.append(0)\n",
    "            \n",
    "    if 0.95 * y_prev[i] > y_test[i]: # цена упала\n",
    "        # предсказание тоже говорит о том что цена упала\n",
    "        if 0.95 * y_prev[i] > predict_t[i]:\n",
    "            correct_predictions.append(1)\n",
    "        else:\n",
    "            correct_predictions.append(0)\n",
    "    \n",
    "    if 1.05 * y_prev[i] < y_test[i]: # цена возросла\n",
    "        # предсказание тоже говорит о том что цена возросла\n",
    "        if 1.05 * y_prev[i] < predict_t[i]:\n",
    "            correct_predictions.append(1)\n",
    "        else:\n",
    "            correct_predictions.append(0)\n",
    "print('accuracy   ', sum(correct_predictions)/len(correct_predictions))"
   ]
  },
  {
   "cell_type": "code",
   "execution_count": null,
   "id": "2bb7a6cc",
   "metadata": {},
   "outputs": [],
   "source": []
  }
 ],
 "metadata": {
  "kernelspec": {
   "display_name": "Python 3",
   "language": "python",
   "name": "python3"
  },
  "language_info": {
   "codemirror_mode": {
    "name": "ipython",
    "version": 3
   },
   "file_extension": ".py",
   "mimetype": "text/x-python",
   "name": "python",
   "nbconvert_exporter": "python",
   "pygments_lexer": "ipython3",
   "version": "3.8.8"
  }
 },
 "nbformat": 4,
 "nbformat_minor": 5
}
